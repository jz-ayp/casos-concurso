{
 "cells": [
  {
   "cell_type": "markdown",
   "metadata": {},
   "source": [
    "# \"Tipos\" de problemas de concurso\n",
    "\n",
    "Una de las pocas formas prácticas en que podríamos catalogar los problemas de concurso es por la forma como manejan los diferentes \"*casos*\".\n",
    "\n",
    "Un **caso** es una instancia *particular* del problema a resolver. Por ejemplo, si el problema es sumar dos números, un caso sería sumar 5 y 6."
   ]
  },
  {
   "cell_type": "markdown",
   "metadata": {},
   "source": [
    "## Generalidades\n",
    "\n",
    "Lo primero que hay que recordar es que, por el uso de un programa calificador, hay que evitar el texto que acostumbramos poner en las instrucciones `input()` a manera de contexto. Es decir, codificar el puro `input()` sin mensaje. Por ejemplo, en lugar de:\n",
    "\n",
    "```python\n",
    "numero = int(input(\"Introduzca un número: \"))\n",
    "```\n",
    "\n",
    "Codificaremos así:\n",
    "\n",
    "```python\n",
    "numero = int(input())\n",
    "```\n",
    "\n",
    "Igualmente, para el caso de las salidas, hay que imprimir únicamente el resultado, sin frases de contexto, cuidando que el formato de la salida corresponda con lo que solicita el enunciado del problema. De esta manera, en lugar de:\n",
    "\n",
    "```python\n",
    "print(\"El resultado es:\", resultado)\n",
    "```\n",
    "\n",
    "Usaremos, sencillamente:\n",
    "\n",
    "```python\n",
    "print(resultado)\n",
    "```"
   ]
  },
  {
   "cell_type": "markdown",
   "metadata": {},
   "source": [
    "## Tipo 1: Cada corrida es un caso\n",
    "\n",
    "Este es el tipo que normalmente hemos trabajado en el curso. Un ejemplo sería:\n",
    "\n",
    "### Enunciado\n",
    "Calcular la suma de dos números enteros.\n",
    "\n",
    "### Entradas\n",
    "Una única línea con los dos enteros a sumar, separados por un espacio.\n",
    "\n",
    "### Salidas\n",
    "Una única línea con el resultado de la suma.\n",
    "\n",
    "Entrada de ejemplo | Salida de ejemplo\n",
    ":------------------|:-------------------\n",
    "`3 5`              | `8`\n",
    "\n",
    "Entrada de ejemplo | Salida de ejemplo\n",
    ":------------------|:-------------------\n",
    "`8 91`               | `99`"
   ]
  },
  {
   "cell_type": "code",
   "execution_count": 1,
   "metadata": {},
   "outputs": [
    {
     "name": "stdout",
     "output_type": "stream",
     "text": [
      "3 5\n",
      "8\n"
     ]
    }
   ],
   "source": [
    "# Entradas\n",
    "entrada = input()\n",
    "\n",
    "# Proceso\n",
    "# Separar la entrada en dos números enteros\n",
    "num1, num2 = [int(n) for n in entrada.split()]\n",
    "# Sumarlos\n",
    "suma = num1 + num2\n",
    "\n",
    "# Salidas\n",
    "print(suma)"
   ]
  },
  {
   "cell_type": "markdown",
   "metadata": {},
   "source": [
    "***Nota***: Una alternativa a la expresión del lado derecho en la instrucción para el desempacado es usar la función `map`, que aplica una misma función a todos los elementos de un iterable:\n",
    "\n",
    "```python\n",
    "num1, num2 = map(int, entrada.split())\n",
    "```\n",
    "\n",
    "Actualmente, se prefiere la expansión de listas (*list comprehension*) sobre el uso de `map`."
   ]
  },
  {
   "cell_type": "markdown",
   "metadata": {},
   "source": [
    "## Tipo 2: La primera entrada es el número de casos\n",
    "\n",
    "En este tipo, se indica de antemano la cantidad de casos que tendrá la corrida. Un ejemplo sería:\n",
    "\n",
    "### Enunciado\n",
    "Calcular la suma de dos números enteros.\n",
    "\n",
    "### Entradas\n",
    "La primera línea contiene un número entero que indica el número de casos.\n",
    "\n",
    "Cada una de las siguientes líneas contiene dos enteros a sumar, separados por un espacio.\n",
    "\n",
    "### Salidas\n",
    "Por cada caso, una línea con el resultado de la suma.\n",
    "\n",
    "Entrada de ejemplo | Salida de ejemplo\n",
    ":------------------|:-------------------\n",
    "`2`                | `8`\n",
    "`3 5`              | `99`\n",
    "`8 91`             |\n",
    "\n",
    "Aquí se nos indica que la corrida tendrá dos casos. El primer caso pide sumar 3 y 5 (por eso la primera salida es 8) y el segundo caso pide sumar 8 y 91 (por eso la segunda salida es 99)."
   ]
  },
  {
   "cell_type": "code",
   "execution_count": 2,
   "metadata": {},
   "outputs": [
    {
     "name": "stdout",
     "output_type": "stream",
     "text": [
      "2\n",
      "3 5\n",
      "8\n",
      "8 91\n",
      "99\n"
     ]
    }
   ],
   "source": [
    "# N es el número de casos\n",
    "N = int(input())\n",
    "# Iniciamos un ciclo que se repetirá N veces\n",
    "for n in range(N):\n",
    "    # Para cada caso, se repite el problema completo,\n",
    "    # con sus entradas, proceso y salidas.\n",
    "    # Todo va dentro del for (para que se repita)\n",
    "    \n",
    "    # Entradas\n",
    "    entrada = input()\n",
    "\n",
    "    # Proceso\n",
    "    # Separar la entrada en dos números enteros\n",
    "    num1, num2 = [int(n) for n in entrada.split()]\n",
    "    # Sumarlos\n",
    "    suma = num1 + num2\n",
    "\n",
    "    # Salidas\n",
    "    print(suma)"
   ]
  },
  {
   "cell_type": "markdown",
   "metadata": {},
   "source": [
    "***Nota***: Puedes observar en el ejemplo anterior que las salidas están entremezcladas con las entradas. No es necesario recibir todas las entradas antes de generar las salidas, se pueden ir generando las salidas de cada caso conforme se vayan recopilando las entradas correspondientes. Por regla general, los calificadores automáticos pueden distinguir las salidas generadas por el programa de las entradas del usuario."
   ]
  },
  {
   "cell_type": "markdown",
   "metadata": {},
   "source": [
    "## Tipo 3: Un valor especial indica el final de los casos\n",
    "\n",
    "Para este tipo, no se conoce de antemano el número total de casos en la corrida, pero se establece un valor especial (llamado **centinela**) que indicará que ya se llegó al final y no hay más casos que procesar. Un ejemplo sería:\n",
    "\n",
    "### Enunciado\n",
    "Calcular la suma de dos números enteros.\n",
    "\n",
    "### Entradas\n",
    "Cada línea contiene dos enteros a sumar, separados por un espacio.\n",
    "\n",
    "El final de los casos se indica con una línea que contiene únicamente un 0 (cero).\n",
    "\n",
    "### Salidas\n",
    "Por cada caso, una línea con el resultado de la suma.\n",
    "\n",
    "Entrada de ejemplo | Salida de ejemplo\n",
    ":------------------|:-------------------\n",
    "`3 5`              | `8`\n",
    "`8 91`             | `99`\n",
    "`0`                |\n",
    "\n",
    "La corrida de ejemplo tuvo dos casos: `3 + 5 = 8`, y `8 + 91 = 99`. El `0` del final, indica que se acabaron los datos a procesar."
   ]
  },
  {
   "cell_type": "code",
   "execution_count": 3,
   "metadata": {},
   "outputs": [
    {
     "name": "stdout",
     "output_type": "stream",
     "text": [
      "3 5\n",
      "8\n",
      "8 91\n",
      "99\n",
      "0\n"
     ]
    }
   ],
   "source": [
    "# En este tipo, también tendremos un ciclo (para manejar cada caso)\n",
    "# pero, como no sabemos la cantidad total de casos de manera previa,\n",
    "# usaremos un ciclo while en lugar de for.\n",
    "# \n",
    "# Observamos que, cuando se requieren varias entradas para cada caso, la\n",
    "# posición de la primera (o única) entrada va a estar \"movida\", adelantada\n",
    "# dentro del ciclo, porque podría tratarse del centinela, en cuyo caso,\n",
    "# se termina el ciclo, sin pedir entradas adicionales o continuar con \n",
    "# el proceso.\n",
    "# \n",
    "# En caso contrario, es decir, si no se trata del valor centinela, sino de\n",
    "# una entrada \"normal\", se continúa con la resolución del caso usando la \n",
    "# entrada que ya se tomó.\n",
    "#\n",
    "# Nota: Cuando cada caso tiene entradas múltiples, sólo la primera está \n",
    "# \"adelantada\" (antes del break).\n",
    "\n",
    "# Iniciamos el ciclo\n",
    "while True:\n",
    "    # Entrada\n",
    "    entrada = input()\n",
    "\n",
    "    # ¿Centinela?\n",
    "    if entrada == \"0\":\n",
    "        # El centinela indica que ya no hay más casos que resolver\n",
    "        break\n",
    "\n",
    "    # Si la entrada no fue el centinela, para cada caso, se repite el problema completo,\n",
    "    # con sus entradas (que ya tenemos), proceso y salidas. \n",
    "\n",
    "    # Entrada\n",
    "    # Ya se tomó al inicio del ciclo.\n",
    "    # Sí hay más de una entrada, aquí se toman las adicionales.\n",
    "    \n",
    "    # Proceso\n",
    "    # Separar la entrada en dos números enteros\n",
    "    num1, num2 = [int(n) for n in entrada.split()]\n",
    "    # Sumarlos\n",
    "    suma = num1 + num2\n",
    "\n",
    "    # Salidas\n",
    "    print(suma)\n",
    "    "
   ]
  },
  {
   "cell_type": "markdown",
   "metadata": {},
   "source": [
    "***Nota***: Como en el caso anterior, las salidas pueden quedar entremezcladas con las entradas. En general, esto no representa un problema, como ya se mencionó."
   ]
  },
  {
   "cell_type": "markdown",
   "metadata": {},
   "source": [
    "A partir de Python 3.8, se pueden utilizar expresiones de asignación (operador *walrus*) en la condición del while para evitar el uso de un ciclo `while True` y `break`.\n",
    "\n",
    "El ejemplo quedaría como sigue:"
   ]
  },
  {
   "cell_type": "code",
   "execution_count": 4,
   "metadata": {},
   "outputs": [
    {
     "name": "stdout",
     "output_type": "stream",
     "text": [
      "3 5\n",
      "8\n",
      "8 91\n",
      "99\n",
      "0\n"
     ]
    }
   ],
   "source": [
    "# Usando expresiones de asignación, la entrada, junto con el valor centinela,\n",
    "# quedan dentro de la condición del while.\n",
    "\n",
    "# Nota: En el caso de entradas múltiples, sólo la primera se mueve a la\n",
    "# expresión de asignación.\n",
    "\n",
    "# Iniciamos el ciclo con el centinela\n",
    "while (entrada := input()) != \"0\":\n",
    "    # De nuevo, para cada caso, se repite el problema completo,\n",
    "    # con sus entradas, proceso y salidas. \n",
    "    # Pero, como ya tenemos la entrada, nos vamos directo al...\n",
    "    \n",
    "    # Proceso\n",
    "    # Separar la entrada en dos números enteros\n",
    "    num1, num2 = [int(x) for x in entrada.split()]\n",
    "    # Sumarlos\n",
    "    suma = num1 + num2\n",
    "\n",
    "    # Salidas\n",
    "    print(suma)"
   ]
  },
  {
   "cell_type": "markdown",
   "metadata": {},
   "source": [
    "## Generalización y aplicabilidad de los conceptos\n",
    "\n",
    "Aunque el tema es la clasificación de los problemas *de concurso* de acuerdo al manejo de casos, la aplicación de lo descrito no se limita a problemas de concurso. Son muchas las aplicaciones en las que se trata de analizar datos con una estructura definida. Por ejemplo, cuando se analizan datos generados por instrumentos que registran automáticamente sus lecturas en diferentes tipos de archivo con estructura definida. O cuando se desea intercambiar datos entre diferentes programas, independientes o relacionados. Una práctica común es generar la salida del primer programa en un formato específico que se utiliza para alimentar la entrada del segundo programa."
   ]
  }
 ],
 "metadata": {
  "kernelspec": {
   "display_name": "Python 3 (ipykernel)",
   "language": "python",
   "name": "python3"
  },
  "language_info": {
   "codemirror_mode": {
    "name": "ipython",
    "version": 3
   },
   "file_extension": ".py",
   "mimetype": "text/x-python",
   "name": "python",
   "nbconvert_exporter": "python",
   "pygments_lexer": "ipython3",
   "version": "3.10.9"
  }
 },
 "nbformat": 4,
 "nbformat_minor": 2
}
